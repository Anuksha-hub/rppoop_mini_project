import pandas as pd
df=pd.read_csv('data.csv')
df.set_index('SerialNumber',inplace=True) # using id as index
import tkinter as tk
from tkinter import ttk , messagebox , filedialog
filtered_df = pd.DataFrame()
my_w = tk.Tk()
my_w.geometry("500x500")  # width x height
my_w.title("Data filter")  # Adding a title

l1 = tk.Label(my_w, text="Search", width=5, font=18)  # added one Label
l1.grid(row=1, column=1, padx=3, pady=10)

e1 = tk.Entry(my_w, width=35, bg="light blue", font=18)  # added one Entry box
e1.grid(row=1, column=2, padx=1)

b1 = tk.Button(my_w, text="Search", width=7, font=18, command=lambda: my_search())
b1.grid(row=1, column=3, padx=2)
b2 = tk.Button(my_w, text="Save", width=7, font=18, command=lambda: save())
b2.grid(row=1, column=20, padx=2)
def my_search():
    global filtered_df

    l1 = list(df)  # List of column names as headers
    query = e1.get().strip()  # Get user entered string

    if query.isdigit():  # If query is a number
        str1 = df["Marks"] == int(query)
    elif query == "M" or query == "F":
        str1 = df.Gender.str.contains(query, case=False)  # Name column value matching
    elif query in "AIMLWDEHDS":
        str1 = df.CourseTaken.str.contains(query, case=False)
    elif query.isalpha():
        str1 = df.Name.str.contains(query, case=False)
    elif ',' in query:
        query_parts = query.split(',')
        if len(query_parts) == 2:
            course_query = query_parts[0].strip()
            marks_gender_query = query_parts[1].strip()
            if course_query in ['AI', 'ML', 'DS', 'EH', 'WD']:
                if marks_gender_query.isdigit():
                    marks_query = int(marks_gender_query)
                    filtered_df = df[(df['CourseTaken'] == course_query) & (df['Marks'] > marks_query)]
                    result = filtered_df.to_string(index=False)

                    # Create a new window for displaying the table
                    table_window = tk.Toplevel(my_w)
                     table_window = tk.Toplevel(my_w)
                    table_window.title("Filtered Data")
                    table_window.geometry("800x400")

                    trv = ttk.Treeview(table_window)
                    trv.pack(fill="both", expand=True)

                    trv["show"] = "headings"
                    trv["columns"] = l1
                    for col in l1:
                        trv.column(col, width=100, anchor="center")
                        trv.heading(col, text=col)

                    for row in filtered_df.iterrows():
                        trv.insert("", "end", values=row[1].tolist())

                elif marks_gender_query in ['M', 'F']:
                    gender_query = marks_gender_query
                    filtered_df = df[(df['CourseTaken'] == course_query) & (df['Gender'] == gender_query)]
                    result = filtered_df.to_string(index=False)

                    # Create a new window for displaying the table
                    table_window = tk.Toplevel(my_w)
                    table_window.title("Filtered Data")
                    table_window.geometry("800x400")

                    trv = ttk.Treeview(table_window)
                    trv.pack(fill="both", expand=True)

                    trv["show"] = "headings"
                    trv["columns"] = l1
                    for col in l1:
                        trv.column(col, width=100, anchor="center")
                        trv.heading(col, text=col)
                        
                     # Clear the Treeview widget before inserting new data
                    trv.delete(*trv.get_children())


                    for row in filtered_df.iterrows():
                        trv.insert("", "end", values=row[1].tolist())

                else:
                    messagebox.showinfo("ERROR", "Wrong Input")
            else:
                messagebox.showinfo("ERROR", "Invalid Course Code")
    else:
        messagebox.showinfo("ERROR", "Wrong Input")
    df2 = df[(str1)]  # combine all conditions using | operator
    filtered_df = df[str1]  
    r_set = df2.to_numpy().tolist()  # Create list of list using rows
    trv = ttk.Treeview(my_w, selectmode="browse")  # selectmode="browse" or "extended"
    trv.grid(row=2, column=1, columnspan=3, padx=10, pady=20)  #
    trv["height"] = 10  # Number of rows to display, default is 10
    trv["show"] = "headings"
    trv["columns"] = l1
    for i in l1:
        trv.column(i, width=90, anchor="c")
        # Headings of respective columns
        trv.heading(i, text=i)
    for dt in r_set:
        v = [r for r in dt]  # creating a list from each row
        trv.insert("", "end", iid=v[0], values=v)  # adding row
def save():
    file_path = filedialog.asksaveasfilename(defaultextension=".xlsx")

    if file_path and not filtered_df.empty:  # Check if filtered_df is not empty
        filtered_df.to_excel(file_path, index=False)
        messagebox.showinfo("Success", "Data saved as Excel file.")
my_w.mainloop()
