{
 "cells": [
  {
   "cell_type": "code",
   "execution_count": 36,
   "id": "49f72044",
   "metadata": {},
   "outputs": [
    {
     "name": "stdout",
     "output_type": "stream",
     "text": [
      "    SerialNumber             Name  RollNo Gender CourseTaken  Marks\n",
      "0              1       John Smith    1001      M          AI     85\n",
      "5              6      Jessica Lee    1006      F          AI     88\n",
      "10            11   James Anderson    1011      M          AI     90\n",
      "15            16  Charlotte Brown    1016      F          AI     79\n",
      "20            21      Henry Adams    1021      M          AI     82\n",
      "25            26      Grace Scott    1026      F          AI     86\n",
      "30            31     Jack Bennett    1031      M          AI     88\n",
      "35            36  Penelope Cooper    1036      F          AI     77\n",
      "40            41       Leo Morgan    1041      M          AI     86\n",
      "45            46     Natalie Bell    1046      F          AI     90\n",
      "50            51    Joseph Murphy    1051      M          AI     89\n",
      "55            56     Abigail Wood    1056      F          AI     80\n",
      "60            61       Daniel Lee    1061      M          AI     83\n",
      "65            66    Amelia Turner    1066      F          AI     87\n",
      "70            71    James Stewart    1071      M          AI     87\n",
      "75            76        Mia Perez    1076      F          AI     79\n",
      "80            81   David Thompson    1081      M          AI     88\n",
      "85            86       Emily Hill    1086      F          AI     84\n",
      "90            91     Jack Bennett    1091      M          AI     90\n",
      "95            96  Penelope Cooper    1096      F          AI     79\n"
     ]
    }
   ],
   "source": [
    "import pandas as pd\n",
    "df=pd.read_csv('data.csv')\n",
    "#filtered_df=df[df['Marks'] > 90]\n",
    "#print(filtered_df)\n",
    "filtered2_df = df[df['CourseTaken'] == 'AI']\n",
    "print(filtered2_df)\n",
    "\n"
   ]
  },
  {
   "cell_type": "code",
   "execution_count": null,
   "id": "3d956c12",
   "metadata": {},
   "outputs": [],
   "source": [
    "import pandas as pd\n",
    "df=pd.read_csv('data.csv')\n",
    "df.set_index('SerialNumber',inplace=True) # using id as index\n",
    "import tkinter as tk\n",
    "from tkinter import ttk , messagebox , filedialog\n",
    "filtered_df = pd.DataFrame()\n",
    "my_w = tk.Tk()\n",
    "my_w.geometry(\"500x500\")  # width x height\n",
    "my_w.title(\"Data filter\")  # Adding a title\n",
    "\n",
    "l1 = tk.Label(my_w, text=\"Search\", width=5, font=18)  # added one Label\n",
    "l1.grid(row=1, column=1, padx=3, pady=10)\n",
    "\n",
    "e1 = tk.Entry(my_w, width=35, bg=\"light blue\", font=18)  # added one Entry box\n",
    "e1.grid(row=1, column=2, padx=1)\n",
    "\n",
    "b1 = tk.Button(my_w, text=\"Search\", width=7, font=18, command=lambda: my_search())\n",
    "b1.grid(row=1, column=3, padx=2)\n",
    "b2 = tk.Button(my_w, text=\"Save\", width=7, font=18, command=lambda: save())\n",
    "b2.grid(row=1, column=20, padx=2)\n",
    "def my_search():\n",
    "    global filtered_df\n",
    "    l1 = list(df)  # List of column names as headers\n",
    "    query = e1.get().strip() # get user entered string\n",
    "    if query.isdigit():  # if query is number\n",
    "        str1 = df[\"Marks\"] == int(query)  \n",
    "    elif (query==\"M\" or query==\"F\"):\n",
    "        str1 = df.Gender.str.contains(query, case=False)  # name column value matching\n",
    "    elif (query in \"AIMLWDEHDS\"):\n",
    "        str1 = df.CourseTaken.str.contains(query, case=False)\n",
    "    elif(query== '>90'):\n",
    "        filtered_df=df[df['Marks'] > 90]\n",
    "        str1 = filtered_df\n",
    "    elif (query.isalpha()):\n",
    "        str1 = df.Name.str.contains(query, case=False)\n",
    "    else:\n",
    "        messagebox.showinfo(\"ERROR\",\"Wrong Input\")\n",
    "    df2 = df[(str1)]  # combine all conditions using | operator\n",
    "    filtered_df = df[str1]  \n",
    "    r_set = df2.to_numpy().tolist()  # Create list of list using rows\n",
    "    trv = ttk.Treeview(my_w, selectmode=\"browse\")  # selectmode=\"browse\" or \"extended\"\n",
    "    trv.grid(row=2, column=1, columnspan=3, padx=10, pady=20)  #\n",
    "    trv[\"height\"] = 10  # Number of rows to display, default is 10\n",
    "    trv[\"show\"] = \"headings\"\n",
    "    trv[\"columns\"] = l1\n",
    "    for i in l1:\n",
    "        trv.column(i, width=90, anchor=\"c\")\n",
    "        # Headings of respective columns\n",
    "        trv.heading(i, text=i)\n",
    "    for dt in r_set:\n",
    "        v = [r for r in dt]  # creating a list from each row\n",
    "        trv.insert(\"\", \"end\", iid=v[0], values=v)  # adding row\n",
    "def save():\n",
    "    file_path = filedialog.asksaveasfilename(defaultextension=\".xlsx\")\n",
    "\n",
    "    if file_path and not filtered_df.empty:  # Check if filtered_df is not empty\n",
    "        filtered_df.to_excel(file_path, index=False)\n",
    "        messagebox.showinfo(\"Success\", \"Data saved as Excel file.\")\n",
    "my_w.mainloop()\n",
    "\n",
    "\n",
    "\n"
   ]
  },
  {
   "cell_type": "code",
   "execution_count": null,
   "id": "4907caaf",
   "metadata": {},
   "outputs": [],
   "source": []
  }
 ],
 "metadata": {
  "kernelspec": {
   "display_name": "Python 3 (ipykernel)",
   "language": "python",
   "name": "python3"
  },
  "language_info": {
   "codemirror_mode": {
    "name": "ipython",
    "version": 3
   },
   "file_extension": ".py",
   "mimetype": "text/x-python",
   "name": "python",
   "nbconvert_exporter": "python",
   "pygments_lexer": "ipython3",
   "version": "3.9.13"
  }
 },
 "nbformat": 4,
 "nbformat_minor": 5
}
